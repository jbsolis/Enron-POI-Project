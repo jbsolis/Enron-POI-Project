{
 "cells": [
  {
   "cell_type": "code",
   "execution_count": 1,
   "metadata": {
    "collapsed": false
   },
   "outputs": [
    {
     "name": "stderr",
     "output_type": "stream",
     "text": [
      "C:\\Users\\Jeffrey\\Anaconda2\\lib\\site-packages\\sklearn\\cross_validation.py:44: DeprecationWarning: This module was deprecated in version 0.18 in favor of the model_selection module into which all the refactored classes and functions are moved. Also note that the interface of the new CV iterators are different from that of this module. This module will be removed in 0.20.\n",
      "  \"This module will be removed in 0.20.\", DeprecationWarning)\n"
     ]
    }
   ],
   "source": [
    "# %load poi_id.py\n",
    "#!/usr/bin/python\n",
    "\n",
    "import sys\n",
    "import pickle\n",
    "sys.path.append(\"../tools/\")\n",
    "\n",
    "import pandas as pd\n",
    "\n",
    "from feature_format import featureFormat, targetFeatureSplit\n",
    "from tester import dump_classifier_and_data, main\n",
    "\n",
    "from sklearn.pipeline import Pipeline\n",
    "from sklearn.feature_selection import SelectKBest, f_classif\n",
    "from sklearn.decomposition import PCA\n",
    "from sklearn.preprocessing import MinMaxScaler\n",
    "from sklearn.tree import DecisionTreeClassifier\n",
    "from sklearn.naive_bayes import GaussianNB\n",
    "from sklearn.model_selection import GridSearchCV\n",
    "from sklearn.cross_validation import train_test_split\n",
    "from sklearn.cross_validation import StratifiedShuffleSplit\n",
    "from sklearn.metrics import accuracy_score, precision_score, recall_score, f1_score\n",
    "\n",
    "### Task 1: Select what features you'll use.\n",
    "### features_list is a list of strings, each of which is a feature name.\n",
    "### The first feature must be \"poi\".\n",
    "\n",
    "# director_fees and loan_advances, stocks\n",
    "features_list = ['poi','salary', 'bonus', 'long_term_incentive', 'deferred_income',\n",
    "                 'deferral_payments', 'other', 'expenses','salary_bonus_ratio',\n",
    "                 'total_payments', 'exercised_stock_options', 'restricted_stock', 'restricted_stock_deferred', 'total_stock_value',\n",
    "                'to_messages', 'from_poi_to_this_person', 'from_messages', 'from_this_person_to_poi','shared_receipt_with_poi'] # You will need to use more features\n",
    "\n",
    "### Load the dictionary containing the dataset\n",
    "with open(\"final_project_dataset.pkl\", \"r\") as data_file:\n",
    "    data_dict = pickle.load(data_file)\n",
    "    data_dict.pop('TOTAL', 0)\n",
    "    data_dict.pop(\"THE TRAVEL AGENCY IN THE PARK\", 0 )\n",
    "    data_dict.pop(\"LOCKHART EUGENE E\", 0 )\n",
    "    \n",
    "#convert to dataframe and remove outliers\n",
    "dataDF = pd.DataFrame.from_dict(data_dict, orient = 'index' ,\n",
    "                  dtype = float)\n",
    "dataDF['salary_bonus_ratio'] = dataDF['bonus'] / dataDF['salary']\n",
    "dataDF = dataDF.replace(['NaN','inf'], 0)\n",
    "dataDF = dataDF[dataDF['restricted_stock_deferred'] <= 0]\n",
    "\n",
    "data_dict = dataDF.to_dict(orient = 'index')\n",
    "### Task 2: Remove outliers\n",
    "### Task 3: Create new feature(s)\n",
    "### Store to my_dataset for easy export below.\n",
    "my_dataset = data_dict\n",
    "\n",
    "### Extract features and labels from dataset for local testing\n",
    "data = featureFormat(my_dataset, features_list, sort_keys = True)\n",
    "labels, features = targetFeatureSplit(data)\n",
    "\n",
    "### Task 4: Try a varity of classifiers\n",
    "### Please name your classifier clf for easy export below.\n",
    "### Note that if you want to do PCA or other multi-stage operations,\n",
    "### you'll need to use Pipelines. For more info:\n",
    "### http://scikit-learn.org/stable/modules/pipeline.html\n",
    "\n",
    "# Provided to give you a starting point. Try a variety of classifiers.\n",
    "\n",
    "### Task 5: Tune your classifier to achieve better than .3 precision and recall \n",
    "### using our testing script. Check the tester.py script in the final project\n",
    "### folder for details on the evaluation method, especially the test_classifier\n",
    "### function. Because of the small size of the dataset, the script uses\n",
    "### stratified shuffle split cross validation. For more info: \n",
    "### http://scikit-learn.org/stable/modules/generated/sklearn.cross_validation.StratifiedShuffleSplit.html\n",
    "\n",
    "# Example starting point. Try investigating other evaluation techniques!\n",
    "#features_train, features_test, labels_train, labels_test = \\\n",
    "#    train_test_split(features, labels, test_size=0.3, random_state=42)\n",
    "\n",
    "### Task 6: Dump your classifier, dataset, and features_list so anyone can\n",
    "### check your results. You do not need to change anything below, but make sure\n",
    "### that the version of poi_id.py that you submit can be run on its own and\n",
    "### generates the necessary .pkl files for validating your results."
   ]
  },
  {
   "cell_type": "code",
   "execution_count": 2,
   "metadata": {
    "collapsed": false
   },
   "outputs": [
    {
     "name": "stdout",
     "output_type": "stream",
     "text": [
      "Pipeline(steps=[('SKB', SelectKBest(k=8, score_func=<function f_classif at 0x000000000AF6A908>)), ('PCA', PCA(copy=True, iterated_power='auto', n_components=1, random_state=None,\n",
      "  svd_solver='auto', tol=0.0, whiten=False)), ('NB', GaussianNB(priors=None))])\n",
      "Pipeline(steps=[('SKB', SelectKBest(k=8, score_func=<function f_classif at 0x000000000AF6A908>)), ('PCA', PCA(copy=True, iterated_power='auto', n_components=1, random_state=None,\n",
      "  svd_solver='auto', tol=0.0, whiten=False)), ('NB', GaussianNB(priors=None))])\n",
      "\tAccuracy: 0.87840\tPrecision: 0.60654\tRecall: 0.25050\tF1: 0.35456\tF2: 0.28382\n",
      "\tTotal predictions: 15000\tTrue positives:  501\tFalse positives:  325\tFalse negatives: 1499\tTrue negatives: 12675\n",
      "\n"
     ]
    }
   ],
   "source": [
    "nb = GaussianNB()\n",
    "skb = SelectKBest(f_classif)\n",
    "pca = PCA()\n",
    "\n",
    "pipeline = Pipeline(steps=[(\"SKB\",skb),(\"PCA\", pca), (\"NB\", nb)])\n",
    "\n",
    "params = {'SKB__k':range(2,18),'PCA__n_components':range(1,3)}\n",
    "\n",
    "split = StratifiedShuffleSplit(labels, test_size=0.3, random_state=42)\n",
    "\n",
    "gs = GridSearchCV(pipeline, params, cv = split, scoring = 'f1')\n",
    "    \n",
    "gs.fit(features,labels)\n",
    "clf=gs.best_estimator_\n",
    "print clf\n",
    "\n",
    "dump_classifier_and_data(clf, my_dataset, features_list)\n",
    "main()"
   ]
  },
  {
   "cell_type": "code",
   "execution_count": 3,
   "metadata": {
    "collapsed": false
   },
   "outputs": [
    {
     "name": "stderr",
     "output_type": "stream",
     "text": [
      "C:\\Users\\Jeffrey\\Anaconda2\\lib\\site-packages\\sklearn\\metrics\\classification.py:1113: UndefinedMetricWarning: F-score is ill-defined and being set to 0.0 due to no predicted samples.\n",
      "  'precision', 'predicted', average, warn_for)\n"
     ]
    },
    {
     "name": "stdout",
     "output_type": "stream",
     "text": [
      "Pipeline(steps=[('SKB', SelectKBest(k=5, score_func=<function f_classif at 0x000000000AF6A908>)), ('PCA', PCA(copy=True, iterated_power='auto', n_components=3, random_state=None,\n",
      "  svd_solver='auto', tol=0.0, whiten=False)), ('Tree', DecisionTreeClassifier(class_weight=None, criterion='gini', max_depth=None,...it=12, min_weight_fraction_leaf=0.0,\n",
      "            presort=False, random_state=100, splitter='best'))])\n",
      "Pipeline(steps=[('SKB', SelectKBest(k=5, score_func=<function f_classif at 0x000000000AF6A908>)), ('PCA', PCA(copy=True, iterated_power='auto', n_components=3, random_state=None,\n",
      "  svd_solver='auto', tol=0.0, whiten=False)), ('Tree', DecisionTreeClassifier(class_weight=None, criterion='gini', max_depth=None,...it=12, min_weight_fraction_leaf=0.0,\n",
      "            presort=False, random_state=100, splitter='best'))])\n",
      "\tAccuracy: 0.84980\tPrecision: 0.42572\tRecall: 0.36250\tF1: 0.39157\tF2: 0.37360\n",
      "\tTotal predictions: 15000\tTrue positives:  725\tFalse positives:  978\tFalse negatives: 1275\tTrue negatives: 12022\n",
      "\n"
     ]
    }
   ],
   "source": [
    "#scaler = MinMaxScaler()\n",
    "skb = SelectKBest(f_classif)\n",
    "pca = PCA()\n",
    "dtc = DecisionTreeClassifier(random_state = 100)\n",
    "\n",
    "#pipeline = Pipeline(steps=[('Scaling',scaler),(\"PCA\", pca), (\"Tree\", dtc)])\n",
    "pipeline = Pipeline(steps=[(\"SKB\",skb),(\"PCA\", pca), (\"Tree\", dtc)])\n",
    "\n",
    "params = {'SKB__k':range(3,10),'PCA__n_components':range(1,4),\n",
    "          'Tree__min_samples_split': range(5,20),'Tree__criterion':['gini','entropy']}\n",
    "\n",
    "split = StratifiedShuffleSplit(labels, test_size=0.3, random_state=42)\n",
    "\n",
    "gs = GridSearchCV(pipeline, params, cv = split, scoring = 'f1')\n",
    "    \n",
    "gs.fit(features,labels)\n",
    "clf=gs.best_estimator_\n",
    "print clf\n",
    "\n",
    "dump_classifier_and_data(clf, my_dataset, features_list)\n",
    "main()"
   ]
  },
  {
   "cell_type": "code",
   "execution_count": 4,
   "metadata": {
    "collapsed": false
   },
   "outputs": [
    {
     "name": "stdout",
     "output_type": "stream",
     "text": [
      " \n",
      "Selected Features, Scores, P-Values\n",
      "[('exercised_stock_options', '24.43', '0.000'), ('total_stock_value', '23.61', '0.000'), ('bonus', '20.26', '0.000'), ('salary', '17.72', '0.000'), ('deferred_income', '11.18', '0.001')]\n"
     ]
    }
   ],
   "source": [
    "X_new = gs.best_estimator_.named_steps['SKB']\n",
    "feature_scores = ['%.2f' % elem for elem in X_new.scores_ ]\n",
    "feature_scores_pvalues = ['%.3f' % elem for elem in  X_new.pvalues_ ]\n",
    "features_selected_tuple=[(features_list[i+1], feature_scores[i], feature_scores_pvalues[i]) for i in X_new.get_support(indices=True)]\n",
    "features_selected_tuple = sorted(features_selected_tuple, key=lambda feature: float(feature[1]) , reverse=True)\n",
    "print ' '\n",
    "print 'Selected Features, Scores, P-Values'\n",
    "print features_selected_tuple"
   ]
  },
  {
   "cell_type": "code",
   "execution_count": null,
   "metadata": {
    "collapsed": true
   },
   "outputs": [],
   "source": []
  }
 ],
 "metadata": {
  "anaconda-cloud": {},
  "kernelspec": {
   "display_name": "Python [default]",
   "language": "python",
   "name": "python2"
  },
  "language_info": {
   "codemirror_mode": {
    "name": "ipython",
    "version": 2
   },
   "file_extension": ".py",
   "mimetype": "text/x-python",
   "name": "python",
   "nbconvert_exporter": "python",
   "pygments_lexer": "ipython2",
   "version": "2.7.12"
  }
 },
 "nbformat": 4,
 "nbformat_minor": 1
}
